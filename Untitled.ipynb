{
 "cells": [
  {
   "cell_type": "code",
   "execution_count": 1,
   "metadata": {},
   "outputs": [],
   "source": [
    "import torch\n",
    "import torch.nn as nn"
   ]
  },
  {
   "cell_type": "code",
   "execution_count": 16,
   "metadata": {},
   "outputs": [],
   "source": [
    "class MLP(nn.Module):\n",
    "    def __init__(self,\n",
    "                 input_dim : int,\n",
    "                 hidden : int,\n",
    "                 output_dim : int):\n",
    "        super().__init__()\n",
    "        self.l1 = nn.Linear(1, 16)\n",
    "        self.l2 = nn.Linear(16, 16)\n",
    "        self.l3 = nn.Linear(16, 1)\n",
    "        \n",
    "        nn.init.xavier_uniform_(self.l1.weight)\n",
    "        nn.init.xavier_uniform_(self.l2.weight)\n",
    "        nn.init.xavier_uniform_(self.l3.weight)\n",
    "        \n",
    "    def forward(self, inputs):\n",
    "        x = self.l1(inputs)\n",
    "        x = nn.functional.tanh(x)\n",
    "        x = self.l2(x)\n",
    "        x = nn.functional.tanh(x)\n",
    "        x = self.l3(x)\n",
    "        return x"
   ]
  },
  {
   "cell_type": "code",
   "execution_count": 17,
   "metadata": {},
   "outputs": [],
   "source": [
    "class ModelWithPrior(nn.Module):\n",
    "    def __init__(self,\n",
    "                 base_model : nn.Module,\n",
    "                 prior_model : nn.Module,\n",
    "                 prior_scale : float = 1.0):\n",
    "        super().__init__()\n",
    "        self.base_model = base_model\n",
    "        self.prior_model = prior_model\n",
    "        self.prior_scale = prior_scale\n",
    "        \n",
    "    def forward(self, inputs):\n",
    "        with torch.no_grad():\n",
    "            prior_out = self.prior_model(inputs)\n",
    "            prior_out = prior_out.detach()\n",
    "        model_out = self.base_model(inputs)\n",
    "        return model_out + (self.prior_scale * prior_out)"
   ]
  },
  {
   "cell_type": "code",
   "execution_count": 18,
   "metadata": {},
   "outputs": [],
   "source": [
    "def train_model(x_train, y_train, base_model, prior_model):\n",
    "    model = ModelWithPrior(base_model, prior_model, 1.0)\n",
    "    loss_fn = nn.MSELoss()\n",
    "    optimizer = torch.optim.Adam(model.parameters(), lr=0.05)\n",
    "    \n",
    "    for epoch in range(100):\n",
    "        model.train()\n",
    "        preds = model(x_train)\n",
    "        loss = loss_fn(preds, y_train)\n",
    "        optimizer.zero_grad()\n",
    "        loss.backward()\n",
    "        optimizer.step()\n",
    "            \n",
    "    return model"
   ]
  },
  {
   "cell_type": "code",
   "execution_count": 19,
   "metadata": {},
   "outputs": [],
   "source": [
    "priors = []\n",
    "models = []\n",
    "model_w_priors = []"
   ]
  },
  {
   "cell_type": "code",
   "execution_count": 20,
   "metadata": {},
   "outputs": [],
   "source": [
    "for i in range(6):\n",
    "    priors.append(MLP(1, 16, 1))\n",
    "    models.append(MLP(1, 16, 1))\n",
    "    model_w_priors.append(ModelWithPrior(models[-1], priors[-1]))"
   ]
  },
  {
   "cell_type": "code",
   "execution_count": null,
   "metadata": {},
   "outputs": [],
   "source": []
  }
 ],
 "metadata": {
  "kernelspec": {
   "display_name": "Python (polo)",
   "language": "python",
   "name": "polo"
  },
  "language_info": {
   "codemirror_mode": {
    "name": "ipython",
    "version": 3
   },
   "file_extension": ".py",
   "mimetype": "text/x-python",
   "name": "python",
   "nbconvert_exporter": "python",
   "pygments_lexer": "ipython3",
   "version": "3.6.8"
  }
 },
 "nbformat": 4,
 "nbformat_minor": 2
}
